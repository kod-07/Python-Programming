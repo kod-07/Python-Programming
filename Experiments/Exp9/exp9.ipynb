{
 "cells": [
  {
   "cell_type": "code",
   "execution_count": 3,
   "id": "ac996865-5930-46c6-9858-993752e1664c",
   "metadata": {},
   "outputs": [
    {
     "name": "stdout",
     "output_type": "stream",
     "text": [
      "Series using list : \n",
      "0     10\n",
      "1     20\n",
      "2     30\n",
      "3     40\n",
      "4     50\n",
      "5     60\n",
      "6     70\n",
      "7     80\n",
      "8     90\n",
      "9    100\n",
      "dtype: int64\n",
      "Data Frame using Dictnary:\n",
      "   s1  s2  s3\n",
      "0   1   5   9\n",
      "1   2   6  10\n",
      "2   3   7  11\n",
      "3   4   8  12\n"
     ]
    }
   ],
   "source": [
    "import pandas as pd\n",
    "lst = [10,20,30,40,50,60,70,80,90,100]\n",
    "d = {\n",
    "    's1' :[1,2,3,4],\n",
    "    's2' :[5,6,7,8],\n",
    "    's3' :[9,10,11,12]\n",
    "}\n",
    "se = pd.Series(lst)\n",
    "df = pd.DataFrame(d)\n",
    "print(\"Series using list : \")\n",
    "print(se)\n",
    "print(\"Data Frame using Dictnary:\")\n",
    "print(df)"
   ]
  },
  {
   "cell_type": "code",
   "execution_count": null,
   "id": "f8e8c03c-0584-459d-b169-303647117b19",
   "metadata": {},
   "outputs": [],
   "source": []
  }
 ],
 "metadata": {
  "kernelspec": {
   "display_name": "Python 3 (ipykernel)",
   "language": "python",
   "name": "python3"
  },
  "language_info": {
   "codemirror_mode": {
    "name": "ipython",
    "version": 3
   },
   "file_extension": ".py",
   "mimetype": "text/x-python",
   "name": "python",
   "nbconvert_exporter": "python",
   "pygments_lexer": "ipython3",
   "version": "3.8.1"
  }
 },
 "nbformat": 4,
 "nbformat_minor": 5
}
